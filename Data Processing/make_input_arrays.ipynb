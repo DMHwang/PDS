{
 "cells": [
  {
   "cell_type": "code",
   "execution_count": null,
   "metadata": {},
   "outputs": [],
   "source": [
    "from collections import Counter\n",
    "import numpy as np\n",
    "import pandas as pd \n",
    "import random"
   ]
  },
  {
   "cell_type": "code",
   "execution_count": null,
   "metadata": {},
   "outputs": [],
   "source": [
    "# read specific columns of csv file\n",
    "data = pd.read_csv('/Users/nezelek/PDS/goes16.csv', usecols=['xrsb_flux','status'], na_filter=False)\n",
    "\n",
    "# gather indices of flares and non-flares\n",
    "flare_indices = data.index[data['status'] == 'EVENT_PEAK'].tolist()\n",
    "nonflare_indices = data.index[data['status'] != 'EVENT_PEAK'].tolist()\n",
    "\n",
    "# create index for undersampling nonflares\n",
    "n_flares = len(flare_indices)\n",
    "print(n_flares)\n",
    "nonflare_sample_indices = random.sample(nonflare_indices, 3*n_flares)\n",
    "print(len(nonflare_sample_indices))\n",
    "sample_indices = sorted(flare_indices + nonflare_sample_indices)"
   ]
  },
  {
   "cell_type": "code",
   "execution_count": null,
   "metadata": {},
   "outputs": [],
   "source": [
    "# standardize flux values\n",
    "data['xrsb_flux'] = (data['xrsb_flux'] - data['xrsb_flux'].mean()) / data['xrsb_flux'].std()\n",
    "\n",
    "# factorize status values\n",
    "data['status'] = 1 + pd.factorize(data['status'])[0]\n",
    "df = data[['xrsb_flux','status']]"
   ]
  },
  {
   "cell_type": "code",
   "execution_count": null,
   "metadata": {},
   "outputs": [],
   "source": [
    "# train-test split\n",
    "SPLIT_VALUE = int(0.5*len(df))\n",
    "train = df[:SPLIT_VALUE].to_numpy()\n",
    "test = df[SPLIT_VALUE:].to_numpy()"
   ]
  },
  {
   "cell_type": "code",
   "execution_count": 67,
   "metadata": {},
   "outputs": [
    {
     "name": "stdout",
     "output_type": "stream",
     "text": [
      "Counter({1: 13150, 2: 2162})\n",
      "Counter({1: 13155, 2: 6607})\n"
     ]
    }
   ],
   "source": [
    "# create sequence arrays\n",
    "X_train = []\n",
    "y_train = []\n",
    "X_test = []\n",
    "y_test = []\n",
    "timesteps = 60\n",
    "halfpoint = int(timesteps/2)\n",
    "\n",
    "for i in range(halfpoint+1, len(train)-halfpoint-1):\n",
    "    if i in sample_indices:\n",
    "        X_train.append(train[i-halfpoint:i+halfpoint, 0])\n",
    "        y_train.append(int(train[i,1]))\n",
    "\n",
    "for i in range(halfpoint+1, len(test)-halfpoint-1):\n",
    "    if i+len(train) in sample_indices:\n",
    "        X_test.append(test[i-halfpoint:i+halfpoint, 0])\n",
    "        y_test.append(int(test[i,1]))\n",
    "\n",
    "print(Counter(y_train))\n",
    "print(Counter(y_test))"
   ]
  },
  {
   "cell_type": "code",
   "execution_count": 68,
   "metadata": {},
   "outputs": [],
   "source": [
    "# save for use in extractor\n",
    "np.save('/Users/nezelek/PDS/FE_GE_TSC-master/data/SolarFlares/SolarFlares_X_TRAIN.npy', X_train)\n",
    "np.save('/Users/nezelek/PDS/FE_GE_TSC-master/data/SolarFlares/SolarFlares_X_TEST.npy', X_test)\n",
    "np.save('/Users/nezelek/PDS/FE_GE_TSC-master/data/SolarFlares/SolarFlares_Y_TRAIN.npy', y_train)\n",
    "np.save('/Users/nezelek/PDS/FE_GE_TSC-master/data/SolarFlares/SolarFlares_Y_TEST.npy', y_test)"
   ]
  },
  {
   "cell_type": "code",
   "execution_count": 69,
   "metadata": {},
   "outputs": [
    {
     "name": "stdout",
     "output_type": "stream",
     "text": [
      "Counter({1: 82, 2: 18})\n",
      "Counter({1: 67, 2: 33})\n"
     ]
    }
   ],
   "source": [
    "# mini sets to see if extractor works\n",
    "mini_train_sample_indices = random.sample(range(len(y_train)),100)\n",
    "mini_test_sample_indices = random.sample(range(len(y_test)),100)\n",
    "mini_X_train = [X_train[i] for i in mini_train_sample_indices]\n",
    "mini_X_test = [X_test[i] for i in mini_test_sample_indices]\n",
    "mini_y_train = [y_train[i] for i in mini_train_sample_indices]\n",
    "mini_y_test = [y_test[i] for i in mini_test_sample_indices]\n",
    "\n",
    "print(Counter(mini_y_train))\n",
    "print(Counter(mini_y_test))\n",
    "\n",
    "np.save('/Users/nezelek/PDS/FE_GE_TSC-master/data/MiniSolarFlares/MiniSolarFlares_X_TRAIN.npy', mini_X_train)\n",
    "np.save('/Users/nezelek/PDS/FE_GE_TSC-master/data/MiniSolarFlares/MiniSolarFlares_X_TEST.npy', mini_X_test)\n",
    "np.save('/Users/nezelek/PDS/FE_GE_TSC-master/data/MiniSolarFlares/MiniSolarFlares_Y_TRAIN.npy', mini_y_train)\n",
    "np.save('/Users/nezelek/PDS/FE_GE_TSC-master/data/MiniSolarFlares/MiniSolarFlares_Y_TEST.npy', mini_y_test)"
   ]
  }
 ],
 "metadata": {
  "kernelspec": {
   "display_name": "tensorflow",
   "language": "python",
   "name": "python3"
  },
  "language_info": {
   "codemirror_mode": {
    "name": "ipython",
    "version": 3
   },
   "file_extension": ".py",
   "mimetype": "text/x-python",
   "name": "python",
   "nbconvert_exporter": "python",
   "pygments_lexer": "ipython3",
   "version": "3.10.10"
  },
  "orig_nbformat": 4,
  "vscode": {
   "interpreter": {
    "hash": "bc08e660f69e1b71747c5d5632d76955898dc64a65b92c281ffa833fbdc052a1"
   }
  }
 },
 "nbformat": 4,
 "nbformat_minor": 2
}
