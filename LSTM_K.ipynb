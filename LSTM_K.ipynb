{
 "cells": [
  {
   "cell_type": "markdown",
   "metadata": {},
   "source": [
    "the obligatory: Activation: source tens/bin/activate"
   ]
  },
  {
   "cell_type": "code",
   "execution_count": null,
   "metadata": {},
   "outputs": [],
   "source": [
    "# Import necessary libraries\n",
    "import numpy as np # linear algebra\n",
    "import pandas as pd # data processing, CSV file I/O (e.g. pd.read_csv)\n",
    "import matplotlib.pyplot as plt   # plotting\n",
    "import seaborn as sns   # plotting heatmap"
   ]
  },
  {
   "cell_type": "markdown",
   "metadata": {},
   "source": [
    "Loading Data and EDA"
   ]
  },
  {
   "cell_type": "code",
   "execution_count": 2,
   "metadata": {},
   "outputs": [],
   "source": [
    "data = pd.read_csv(\"/Users/welpp/Desktop/Practical Data Science/Data/Data Main/goes_13to18.csv\",\n",
    "                   parse_dates=['time'],\n",
    "                   index_col='time')\n",
    "\n",
    "data = data[['xrsa_flux', 'xrsb_flux', 'status']]"
   ]
  },
  {
   "cell_type": "markdown",
   "metadata": {},
   "source": [
    "EDA"
   ]
  },
  {
   "cell_type": "code",
   "execution_count": null,
   "metadata": {},
   "outputs": [],
   "source": [
    "plt.style.use('fivethirtyeight')\n",
    "data.plot(subplots=True,\n",
    "        layout=(6, 3),\n",
    "        figsize=(22,22),\n",
    "        fontsize=10, \n",
    "        linewidth=2,\n",
    "        sharex=False,\n",
    "        title='Visualization of the original Time Series')\n",
    "plt.show()"
   ]
  },
  {
   "cell_type": "code",
   "execution_count": null,
   "metadata": {},
   "outputs": [],
   "source": [
    "data['xrsa_flux']['2018':'2022'].plot(figsize=(16,4),legend=True)\n",
    "data['xrsa_flux']['2022':'2023'].plot(figsize=(16,4),legend=True)\n",
    "data['xrsa_flux']['2023':].plot(figsize=(16,4),legend=True)\n",
    "plt.legend(['Xrsa (Before 2022)','Xrsa (2022)', 'Xrsa (2023)'])\n",
    "plt.title('Xrsa Flux Values')\n",
    "plt.show()"
   ]
  },
  {
   "cell_type": "code",
   "execution_count": null,
   "metadata": {},
   "outputs": [],
   "source": [
    "np.log1p(data['xrsa_flux']['2018':'2022']).plot(figsize=(16,4),legend=True)\n",
    "np.log1p(data['xrsa_flux']['2022':'2023']).plot(figsize=(16,4),legend=True)\n",
    "np.log1p(data['xrsa_flux']['2023':]).plot(figsize=(16,4),legend=True)\n",
    "plt.legend(['Xrsa (Before 2022)','Xrsa (2022)', 'Xrsa (2023)'])\n",
    "plt.title('Xrsa Log Flux Values')\n",
    "plt.show()"
   ]
  },
  {
   "cell_type": "code",
   "execution_count": null,
   "metadata": {},
   "outputs": [],
   "source": [
    "data['xrsb_flux'][:'2022'].plot(figsize=(16,4),legend=True)\n",
    "data['xrsb_flux']['2022':'2023'].plot(figsize=(16,4),legend=True)\n",
    "data['xrsb_flux']['2023':].plot(figsize=(16,4),legend=True)\n",
    "plt.legend(['Xrsb (Before 2022)','Xrsb (2022)', 'Xrsb (2023)'])\n",
    "plt.title('Xrsb Flux Values')\n",
    "plt.show()"
   ]
  },
  {
   "cell_type": "code",
   "execution_count": null,
   "metadata": {},
   "outputs": [],
   "source": [
    "np.log1p(data['xrsb_flux'][:'2022']).plot(figsize=(16,4),legend=True)\n",
    "np.log1p(data['xrsb_flux']['2022':'2023']).plot(figsize=(16,4),legend=True)\n",
    "np.log1p(data['xrsb_flux']['2023':]).plot(figsize=(16,4),legend=True)\n",
    "plt.legend(['Xrsa (Before 2022)','Xrsa (2022)', 'Xrsa (2023)'])\n",
    "plt.title('Xrsb Log Flux Values')\n",
    "plt.show()"
   ]
  },
  {
   "cell_type": "code",
   "execution_count": null,
   "metadata": {},
   "outputs": [],
   "source": [
    "plt.hist2d(data['xrsa_flux'], data['xrsb_flux'], bins=(20, 20), vmax=200)\n",
    "plt.colorbar()\n",
    "plt.xlabel('xrsa_flux')\n",
    "plt.ylabel('xrsb_flux')"
   ]
  },
  {
   "cell_type": "code",
   "execution_count": null,
   "metadata": {},
   "outputs": [],
   "source": [
    "corr_matrix = data.corr(method='spearman')\n",
    "f, ax = plt.subplots(figsize=(16,8))\n",
    "sns.heatmap(corr_matrix, annot=True, fmt='.2f', linewidth=0.4,\n",
    "            annot_kws={\"size\": 10}, cmap='coolwarm', ax=ax)\n",
    "plt.xticks(fontsize=10)\n",
    "plt.yticks(fontsize=10)\n",
    "plt.show()"
   ]
  },
  {
   "cell_type": "markdown",
   "metadata": {},
   "source": [
    "Data Processing"
   ]
  },
  {
   "cell_type": "code",
   "execution_count": 3,
   "metadata": {},
   "outputs": [],
   "source": [
    "from sklearn.preprocessing import MinMaxScaler"
   ]
  },
  {
   "cell_type": "code",
   "execution_count": 4,
   "metadata": {},
   "outputs": [],
   "source": [
    "# values directly\n",
    "\n",
    "df = data.copy()\n",
    "flux = df[['xrsa_flux','xrsb_flux']]\n",
    "\n",
    "scaler = MinMaxScaler(feature_range=(0, 1))\n",
    "flux = scaler.fit_transform(flux)\n",
    "\n",
    "df['xrsa_flux'] = flux[:,0]\n",
    "df['xrsb_flux'] = flux[:,1]\n",
    "\n",
    "## data splits\n",
    "train = df['2016':'2022']\n",
    "val = df['2022':'2023']\n",
    "test = df['2023':]"
   ]
  },
  {
   "cell_type": "code",
   "execution_count": null,
   "metadata": {},
   "outputs": [],
   "source": [
    "# logit flux values\n",
    "\n",
    "df_log = data.copy()\n",
    "df_log[['xrsa_flux', 'xrsb_flux']] = np.log1p(data[['xrsa_flux', 'xrsb_flux']])\n",
    "df_log = df_log['2018':]\n",
    "\n",
    "## minmax scaling flux values only\n",
    "flux = df_log[['xrsa_flux','xrsb_flux']]\n",
    "scaler = MinMaxScaler(feature_range=(0, 1))\n",
    "flux = scaler.fit_transform(flux)\n",
    "\n",
    "df_log['xrsa_flux'] = flux[:,0]\n",
    "df_log['xrsb_flux'] = flux[:,1]\n",
    "\n",
    "## data splits\n",
    "train = df_log['2019':'2022']\n",
    "val = df_log['2022':'2023']\n",
    "test = df_log['2023':]"
   ]
  },
  {
   "cell_type": "code",
   "execution_count": 5,
   "metadata": {},
   "outputs": [],
   "source": [
    "## step for np transform\n",
    "train = train.to_numpy()\n",
    "val = val.to_numpy()\n",
    "test = test.to_numpy()"
   ]
  },
  {
   "cell_type": "code",
   "execution_count": 6,
   "metadata": {},
   "outputs": [],
   "source": [
    "X_train_xrsa = []\n",
    "X_train_xrsb = []\n",
    "y_train = []\n",
    "X_val_xrsa = []\n",
    "X_val_xrsb = []\n",
    "y_val = []\n",
    "X_test_xrsa = []\n",
    "X_test_xrsb = []\n",
    "y_test = []\n",
    "timesteps = 100\n",
    "halfpoint = int(timesteps/2)\n",
    "\n",
    "for i in range(len(train) - timesteps):\n",
    "    X_train_xrsa.append(train[i:i + timesteps, 0])\n",
    "    X_train_xrsb.append(train[i:i + timesteps, 1])\n",
    "    y_train.append(train[i + halfpoint,2])\n",
    "\n",
    "for i in range(len(val) - timesteps):\n",
    "    X_val_xrsa.append(val[i:i + timesteps, 0])\n",
    "    X_val_xrsb.append(val[i:i + timesteps, 1])\n",
    "    y_val.append(val[i + halfpoint,2])\n",
    "\n",
    "for i in range(len(test) - timesteps):\n",
    "    X_test_xrsa.append(test[i:i + timesteps, 0])\n",
    "    X_test_xrsb.append(test[i:i + timesteps, 1])\n",
    "    y_test.append(test[i + halfpoint,2])\n",
    "\n",
    "X_train_a, X_train_b = np.array(X_train_xrsa), np.array(X_train_xrsb)\n",
    "y_train = np.array(y_train)\n",
    "X_train = np.stack((X_train_a, X_train_b), axis = 2)\n",
    "\n",
    "X_val_a, X_val_b = np.array(X_val_xrsa), np.array(X_val_xrsb)\n",
    "y_val = np.array(y_val)\n",
    "X_val = np.stack((X_val_a, X_val_b), axis = 2)\n",
    "\n",
    "X_test_a, X_test_b = np.array(X_test_xrsa), np.array(X_test_xrsb)\n",
    "y_test = np.array(y_test)\n",
    "X_test = np.stack((X_test_a, X_test_b), axis = 2)"
   ]
  },
  {
   "cell_type": "markdown",
   "metadata": {},
   "source": [
    "Model Building"
   ]
  },
  {
   "cell_type": "code",
   "execution_count": 7,
   "metadata": {},
   "outputs": [],
   "source": [
    "import tensorflow as tf\n",
    "from tensorflow.keras.models import Sequential\n",
    "from tensorflow.keras.layers import LSTM, Dense, Conv1D, TimeDistributed, Bidirectional, Flatten, MaxPooling1D\n",
    "from tensorflow.keras.layers import Dropout, BatchNormalization\n",
    "\n",
    "from sklearn.utils.class_weight import compute_class_weight\n",
    "\n",
    "from sklearn.metrics import confusion_matrix, classification_report"
   ]
  },
  {
   "cell_type": "code",
   "execution_count": 8,
   "metadata": {},
   "outputs": [
    {
     "data": {
      "text/plain": [
       "0.9974753170444873"
      ]
     },
     "execution_count": 8,
     "metadata": {},
     "output_type": "execute_result"
    }
   ],
   "source": [
    "1-sum(y_train)/len(y_train)"
   ]
  },
  {
   "cell_type": "code",
   "execution_count": 9,
   "metadata": {},
   "outputs": [],
   "source": [
    "class_weights = compute_class_weight(class_weight = \"balanced\", classes = np.unique(y_train), y = y_train)\n",
    "class_weight_dict = {class_label: weight for class_label, weight in zip(np.unique(y_train), class_weights)}"
   ]
  },
  {
   "cell_type": "markdown",
   "metadata": {},
   "source": [
    "LSTM"
   ]
  },
  {
   "cell_type": "code",
   "execution_count": null,
   "metadata": {},
   "outputs": [],
   "source": [
    "## LSTM\n",
    "model = Sequential()\n",
    "model.add(LSTM(64, return_sequences=True, input_shape=(X_train.shape[1], X_train.shape[2])))\n",
    "model.add(LSTM(64, return_sequences=False, input_shape=(X_train.shape[1], X_train.shape[2])))\n",
    "model.add(Dense(100, activation = 'relu'))\n",
    "model.add(Dense(1, activation='sigmoid'))\n",
    "model.compile(loss='binary_crossentropy', optimizer='adam', metrics=['accuracy'])"
   ]
  },
  {
   "cell_type": "code",
   "execution_count": null,
   "metadata": {},
   "outputs": [],
   "source": [
    "history = model.fit(X_train, y_train, epochs=5, batch_size=64)"
   ]
  },
  {
   "cell_type": "code",
   "execution_count": null,
   "metadata": {},
   "outputs": [],
   "source": [
    "## LSTM Bidirectional\n",
    "model2 = Sequential()\n",
    "model2.add(Bidirectional(LSTM(64, return_sequences=False), input_shape=(X_train.shape[1], X_train.shape[2])))\n",
    "model2.add(Dense(100, activation = 'relu'))\n",
    "model2.add(Dropout(0.3))\n",
    "model2.add(Dense(100, activation = 'relu'))\n",
    "model2.add(Dropout(0.3))\n",
    "model2.add(Dense(1, activation='sigmoid'))\n",
    "model2.compile(loss='binary_crossentropy', optimizer='adam', metrics=['accuracy'])\n"
   ]
  },
  {
   "cell_type": "code",
   "execution_count": null,
   "metadata": {},
   "outputs": [],
   "source": [
    "history2 = model2.fit(X_train, y_train, epochs=5, batch_size=64)"
   ]
  },
  {
   "cell_type": "markdown",
   "metadata": {},
   "source": [
    "Conv1D"
   ]
  },
  {
   "cell_type": "code",
   "execution_count": null,
   "metadata": {},
   "outputs": [],
   "source": [
    "## 1D convolution\n",
    "model3 = Sequential()\n",
    "model3.add(Conv1D(64, 2, activation=\"relu\", input_shape=(X_train.shape[1], X_train.shape[2])))\n",
    "model3.add(Dense(100, activation=\"relu\"))\n",
    "model3.add(MaxPooling1D())\n",
    "model3.add(Conv1D(64, 2, activation=\"relu\", input_shape=(X_train.shape[1], X_train.shape[2])))\n",
    "model3.add(Dense(100, activation=\"relu\"))\n",
    "model3.add(MaxPooling1D())\n",
    "model3.add(Flatten())\n",
    "model3.add(Dense(100, activation=\"relu\"))\n",
    "model3.add(Dense(1, activation='sigmoid'))\n",
    "model3.compile(loss='binary_crossentropy', optimizer='adam', metrics=['accuracy'])"
   ]
  },
  {
   "cell_type": "code",
   "execution_count": null,
   "metadata": {},
   "outputs": [],
   "source": [
    "history3 = model3.fit(X_train, y_train, epochs=5, batch_size=64, class_weight=class_weight_dict)"
   ]
  },
  {
   "cell_type": "code",
   "execution_count": null,
   "metadata": {},
   "outputs": [],
   "source": [
    "history4 = model3.fit(X_train, y_train, epochs=5, batch_size=64)"
   ]
  },
  {
   "cell_type": "markdown",
   "metadata": {},
   "source": [
    "Merger"
   ]
  },
  {
   "cell_type": "code",
   "execution_count": 10,
   "metadata": {},
   "outputs": [
    {
     "name": "stderr",
     "output_type": "stream",
     "text": [
      "WARNING:absl:At this time, the v2.11+ optimizer `tf.keras.optimizers.SGD` runs slowly on M1/M2 Macs, please use the legacy Keras optimizer instead, located at `tf.keras.optimizers.legacy.SGD`.\n"
     ]
    }
   ],
   "source": [
    "model5 = tf.keras.models.Sequential([\n",
    "  tf.keras.layers.Conv1D(filters=64, kernel_size=5, strides=1, padding=\"causal\",\n",
    "                          activation=\"relu\", input_shape=(X_train.shape[1], X_train.shape[2])),\n",
    "  tf.keras.layers.LSTM(64, return_sequences=True),\n",
    "  tf.keras.layers.LSTM(64, return_sequences=False),\n",
    "  tf.keras.layers.Dense(30, activation=\"relu\"),\n",
    "  tf.keras.layers.Dense(10, activation=\"relu\"),\n",
    "  tf.keras.layers.Dense(1)\n",
    "])\n",
    "\n",
    "optimizer = tf.keras.optimizers.SGD(learning_rate=1e-8, momentum=0.9)\n",
    "model5.compile(loss=tf.keras.losses.Huber(),\n",
    "              optimizer=optimizer, metrics=['accuracy'])"
   ]
  },
  {
   "cell_type": "code",
   "execution_count": 12,
   "metadata": {},
   "outputs": [
    {
     "name": "stdout",
     "output_type": "stream",
     "text": [
      "Epoch 1/4\n",
      "57291/57291 [==============================] - 7610s 133ms/step - loss: 0.0013 - accuracy: 0.9975\n",
      "Epoch 2/4\n",
      "57291/57291 [==============================] - 7747s 135ms/step - loss: 0.0013 - accuracy: 0.9975\n",
      "Epoch 3/4\n",
      "57291/57291 [==============================] - 7547s 132ms/step - loss: 0.0013 - accuracy: 0.9975\n",
      "Epoch 4/4\n",
      "57291/57291 [==============================] - 7595s 133ms/step - loss: 0.0013 - accuracy: 0.9975\n"
     ]
    }
   ],
   "source": [
    "history5 = model5.fit(X_train, y_train, epochs=4, batch_size=64)"
   ]
  },
  {
   "cell_type": "markdown",
   "metadata": {},
   "source": [
    "Evaluation"
   ]
  },
  {
   "cell_type": "code",
   "execution_count": 13,
   "metadata": {},
   "outputs": [],
   "source": [
    "from scipy import stats\n",
    "import sklearn.metrics as metrics"
   ]
  },
  {
   "cell_type": "code",
   "execution_count": 14,
   "metadata": {},
   "outputs": [
    {
     "name": "stdout",
     "output_type": "stream",
     "text": [
      "12211/12211 [==============================] - 160s 13ms/step\n"
     ]
    }
   ],
   "source": [
    "y_pred = model5.predict(X_test)"
   ]
  },
  {
   "cell_type": "code",
   "execution_count": 15,
   "metadata": {},
   "outputs": [
    {
     "data": {
      "text/plain": [
       "(390733, 1)"
      ]
     },
     "execution_count": 15,
     "metadata": {},
     "output_type": "execute_result"
    }
   ],
   "source": [
    "y_pred.shape"
   ]
  },
  {
   "cell_type": "code",
   "execution_count": 20,
   "metadata": {},
   "outputs": [
    {
     "name": "stdout",
     "output_type": "stream",
     "text": [
      "0.0002153475\n",
      "0.00020146245\n",
      "0.00019787653582170606\n",
      "Confusion Matrix:\n",
      "[[308867  79566]\n",
      " [  1569    731]]\n",
      "\n",
      "Classification Report:\n",
      "              precision    recall  f1-score   support\n",
      "\n",
      "         0.0       0.99      0.80      0.88    388433\n",
      "         1.0       0.01      0.32      0.02      2300\n",
      "\n",
      "    accuracy                           0.79    390733\n",
      "   macro avg       0.50      0.56      0.45    390733\n",
      "weighted avg       0.99      0.79      0.88    390733\n",
      "\n"
     ]
    }
   ],
   "source": [
    "y_mean = np.mean(y_pred)\n",
    "y_median = np.median(y_pred)\n",
    "y_mode = stats.mode(y_pred)[0][0]\n",
    "print(y_mean)\n",
    "print(y_median)\n",
    "print(y_mode)\n",
    "\n",
    "y_pred_binary = (y_pred > y_mean).astype(int)\n",
    "conf_matrix = confusion_matrix(y_test, y_pred_binary)\n",
    "classification_rep = classification_report(y_test, y_pred_binary)\n",
    "\n",
    "print(\"Confusion Matrix:\")\n",
    "print(conf_matrix)\n",
    "print(\"\\nClassification Report:\")\n",
    "print(classification_rep)"
   ]
  },
  {
   "cell_type": "code",
   "execution_count": 21,
   "metadata": {},
   "outputs": [
    {
     "data": {
      "image/png": "[encoded data removed]",
      "text/plain": [
       "<Figure size 640x480 with 1 Axes>"
      ]
     },
     "metadata": {},
     "output_type": "display_data"
    }
   ],
   "source": [
    "fpr, tpr, threshold = metrics.roc_curve(y_test, y_pred)\n",
    "roc_auc = metrics.auc(fpr, tpr)\n",
    "\n",
    "plt.title('Receiver Operating Characteristic')\n",
    "plt.plot(fpr, tpr, 'b', label = 'AUC = %0.2f' % roc_auc)\n",
    "plt.legend(loc = 'lower right')\n",
    "plt.plot([0, 1], [0, 1],'r--')\n",
    "plt.xlim([0, 1])\n",
    "plt.ylim([0, 1])\n",
    "plt.ylabel('True Positive Rate')\n",
    "plt.xlabel('False Positive Rate')\n",
    "plt.show()"
   ]
  },
  {
   "cell_type": "code",
   "execution_count": null,
   "metadata": {},
   "outputs": [],
   "source": [
    "test2 = df['2023':].iloc[50:390783]\n",
    "test2[\"pred\"] = y_pred_binary"
   ]
  },
  {
   "cell_type": "code",
   "execution_count": null,
   "metadata": {},
   "outputs": [],
   "source": [
    "test2 = test2['2023-10-02 05:30:00':'2023-10-02 06:30:00']"
   ]
  },
  {
   "cell_type": "code",
   "execution_count": null,
   "metadata": {},
   "outputs": [],
   "source": [
    "t_n = test2[(test2['status'] == 0) & (test2['pred'] == 0)]\n",
    "t_p = test2[(test2['status'] == 1) & (test2['pred'] == 1)]\n",
    "f_p = test2[(test2['status'] == 0) & (test2['pred'] == 1)]\n",
    "f_n = test2[(test2['status'] == 1) & (test2['pred'] == 0)]\n",
    "\n",
    "# Plot the data\n",
    "plt.figure(figsize=(10, 6))\n",
    "\n",
    "# Plot status 0 in blue\n",
    "plt.scatter(t_n.index, t_n['xrsa_flux'], color='blue', label='true neg', s=10, alpha=0.5)\n",
    "\n",
    "# Plot status 1 in green\n",
    "plt.scatter(f_n.index, f_n['xrsa_flux'], color='green', label='false neg', s=10, alpha=0.5)\n",
    "\n",
    "# Plot pred 0 in red\n",
    "plt.scatter(f_p.index, f_p['xrsa_flux'], color='red', label='false pos', s=10, alpha=0.5)\n",
    "\n",
    "# Plot pred 1 in orange\n",
    "plt.scatter(t_p.index, t_p['xrsa_flux'], color='orange', label='true pos', s=10, alpha=0.5)\n",
    "\n",
    "# Add labels and title\n",
    "plt.xlabel('Time')\n",
    "plt.ylabel('xrsa_flux')\n",
    "plt.title('Time Series Plot with Status and Pred')\n",
    "\n",
    "# Add legend\n",
    "plt.legend()\n",
    "\n",
    "# Show the plot\n",
    "plt.show()"
   ]
  },
  {
   "cell_type": "code",
   "execution_count": null,
   "metadata": {},
   "outputs": [],
   "source": [
    "test2['xrsa_flux']['2023':].plot(figsize=(16,4),legend=True)\n",
    "plt.title('Xrsa Flux Values')\n",
    "plt.show()"
   ]
  },
  {
   "cell_type": "code",
   "execution_count": null,
   "metadata": {},
   "outputs": [],
   "source": [
    "test2['xrsb_flux']['2023':].plot(figsize=(16,4),legend=True)\n",
    "plt.title('Xrsa Flux Values')\n",
    "plt.show()"
   ]
  }
 ],
 "metadata": {
  "kernelspec": {
   "display_name": "tens",
   "language": "python",
   "name": "python3"
  },
  "language_info": {
   "codemirror_mode": {
    "name": "ipython",
    "version": 3
   },
   "file_extension": ".py",
   "mimetype": "text/x-python",
   "name": "python",
   "nbconvert_exporter": "python",
   "pygments_lexer": "ipython3",
   "version": "3.11.5"
  }
 },
 "nbformat": 4,
 "nbformat_minor": 2
}
